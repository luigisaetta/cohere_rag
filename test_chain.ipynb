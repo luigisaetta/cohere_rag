{
 "cells": [
  {
   "cell_type": "code",
   "execution_count": 1,
   "id": "be870949-8aba-47c7-b214-504335e43106",
   "metadata": {},
   "outputs": [],
   "source": [
    "from prepare_chain import prepare_chain"
   ]
  },
  {
   "cell_type": "code",
   "execution_count": 2,
   "id": "352cb0ab-e57c-43dc-9bc2-5a4c28e53b6b",
   "metadata": {},
   "outputs": [
    {
     "name": "stderr",
     "output_type": "stream",
     "text": [
      "/Users/lsaetta/miniforge3/envs/newsapi/lib/python3.9/site-packages/weaviate/warnings.py:158: DeprecationWarning: Dep016: You are using the Weaviate v3 client, which is deprecated.\n",
      "            Consider upgrading to the new and improved v4 client instead!\n",
      "            See here for usage: https://weaviate.io/developers/weaviate/client-libraries/python\n",
      "            \n",
      "  warnings.warn(\n"
     ]
    }
   ],
   "source": [
    "chain = prepare_chain()"
   ]
  },
  {
   "cell_type": "code",
   "execution_count": 3,
   "id": "c022fac3-c81e-45c4-b4c8-34a942a9c103",
   "metadata": {},
   "outputs": [
    {
     "name": "stderr",
     "output_type": "stream",
     "text": [
      "Your text contains a trailing whitespace, which has been trimmed to ensure high quality generations.\n"
     ]
    }
   ],
   "source": [
    "response = chain.invoke(\"List news regarding Italy.\")"
   ]
  },
  {
   "cell_type": "code",
   "execution_count": 4,
   "id": "adfceac1-0e95-4136-a891-c3559622eb1a",
   "metadata": {},
   "outputs": [
    {
     "name": "stdout",
     "output_type": "stream",
     "text": [
      "I only found one news regarding Italy, the country is currently involved in a deal with Albania regarding the transfer of asylum seekers. \n",
      "\n",
      "Would you like to hear more about what was agreed upon in said deal? \n"
     ]
    }
   ],
   "source": [
    "print(response['answer'])"
   ]
  },
  {
   "cell_type": "code",
   "execution_count": 5,
   "id": "5a589c72-6153-4e88-9495-8af82088b16d",
   "metadata": {},
   "outputs": [
    {
     "name": "stdout",
     "output_type": "stream",
     "text": [
      "Europe migrant crisis: Albanian court greenlights migration deal with Italy\n",
      "Albania's constitutional court has approved a controversial agreement to send asylum seekers in Italy to Albania.\n",
      "Under the agreement, the Italian government will build two centres in northern Alban… [+2796 chars]\n",
      "------------------\n",
      "\n",
      "The ‘woke’ economy and big-spending U.S. policies are empowering populists\n",
      "Progressives around the world are worried. Right-wing populists have won national elections in the Netherlands and Italy and enjoy rising strength in Germany. In the United States, despite indictment… [+5064 chars]\n",
      "------------------\n",
      "\n",
      "It’s less than a year until inauguration. Here are the stock-market lessons from 134 elections in 17 countries\n",
      "The news that Ron DeSantis has dropped out of the Republican presidential race brings into focus the impact from elections on markets, in a year in which not just the U.S., but India, Mexico and almo… [+1727 chars]\n",
      "------------------\n",
      "\n",
      "Up First briefing: Trump's immunity claims; loose parts on Boeing Max 9 planes\n",
      "Good morning. You're reading the Up First newsletter. Subscribe here to get it delivered to your inbox, and listen to the Up First podcast for all the news you need to start your day.\n",
      "Today's top st… [+4515 chars]\n",
      "------------------\n",
      "\n",
      "China launches a satellite over Taiwan, days before island's election\n",
      "A television set, displaying news regarding a \"presidential alert\" message issued by the authorities to all phones in Taiwan, is seen in a hypermarket in Taipei on Jan. 9, 2024.\n",
      "SAM YEH/AFP via Gett… [+1786 chars]\n",
      "------------------\n",
      "\n",
      "Some overlooked good news from 2023: Six countries kayo 'neglected' diseases\n",
      "Left to right: Alexis Mukwedi tested positive for sleeping sickness in the Democratic Republic of the Congo. A sandfly, whose bite can spread the parasite causing visceral leishmaniasis, lands on the… [+8397 chars]\n",
      "------------------\n",
      "\n"
     ]
    }
   ],
   "source": [
    "for doc in response['context']:\n",
    "    print(doc.page_content)\n",
    "    print(\"------------------\")\n",
    "    print(\"\")"
   ]
  },
  {
   "cell_type": "code",
   "execution_count": null,
   "id": "2d0814f2-231d-4c75-8f11-84fe983fc818",
   "metadata": {},
   "outputs": [],
   "source": []
  }
 ],
 "metadata": {
  "kernelspec": {
   "display_name": "Python 3 (ipykernel)",
   "language": "python",
   "name": "python3"
  },
  "language_info": {
   "codemirror_mode": {
    "name": "ipython",
    "version": 3
   },
   "file_extension": ".py",
   "mimetype": "text/x-python",
   "name": "python",
   "nbconvert_exporter": "python",
   "pygments_lexer": "ipython3",
   "version": "3.9.0"
  }
 },
 "nbformat": 4,
 "nbformat_minor": 5
}
