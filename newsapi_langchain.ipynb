{
 "cells": [
  {
   "cell_type": "markdown",
   "id": "ee5193eb",
   "metadata": {},
   "source": [
    "----"
   ]
  },
  {
   "cell_type": "markdown",
   "id": "ce48840a",
   "metadata": {},
   "source": [
    "# **Weaviate, LangChain, Cohere - RAG-based application to control biases in media articles**\n",
    "\n",
    "Useful documentation:\n",
    "* Hybrid Search: https://python.langchain.com/docs/integrations/retrievers/weaviate-hybrid\n",
    "* To solve problems with Cohere and Hybrid Search: https://github.com/langchain-ai/langchain/issues/5300"
   ]
  },
  {
   "cell_type": "markdown",
   "id": "1adf6afb",
   "metadata": {},
   "source": [
    "----"
   ]
  },
  {
   "cell_type": "code",
   "execution_count": 1,
   "id": "0f8bef28",
   "metadata": {},
   "outputs": [],
   "source": [
    "import requests\n",
    "import pandas as pd\n",
    "from tqdm import tqdm\n",
    "import time\n",
    "\n",
    "\n",
    "# only if we want to import a prompt\n",
    "# from langchain import hub\n",
    "from langchain_community.vectorstores import Weaviate\n",
    "from langchain.retrievers.weaviate_hybrid_search import WeaviateHybridSearchRetriever\n",
    "from langchain_core.runnables import RunnablePassthrough, RunnableParallel\n",
    "from langchain_core.output_parsers import StrOutputParser\n",
    "from langchain.prompts import PromptTemplate\n",
    "\n",
    "from langchain_community.llms import Cohere\n",
    "from langchain.retrievers import ContextualCompressionRetriever\n",
    "from langchain.retrievers.document_compressors import CohereRerank\n",
    "from langchain.docstore.document import Document\n",
    "import weaviate\n",
    "from langchain_community.embeddings import CohereEmbeddings\n",
    "from json import loads, dumps\n",
    "\n",
    "from config_private import COHERE_KEY, NEWS_API_KEY, WV_API_KEY"
   ]
  },
  {
   "cell_type": "markdown",
   "id": "f9f0fc4d-8013-4b81-9305-09115031dc52",
   "metadata": {},
   "source": [
    "## 0.Setup"
   ]
  },
  {
   "cell_type": "code",
   "execution_count": 2,
   "id": "51ce7d83-a521-456f-9d7e-476f1899fbc2",
   "metadata": {},
   "outputs": [],
   "source": [
    "# To adapt to Weaviate this one must be used even for English\n",
    "EMBED_MODEL = \"embed-multilingual-v3.0\"\n",
    "\n",
    "# the URL of the WV cluster\n",
    "WEAVIATE_URL = \"https://orals-cluster1-j7b4goli.weaviate.network\""
   ]
  },
  {
   "cell_type": "code",
   "execution_count": 3,
   "id": "e3b54197-c2ff-4e33-8c78-36fa0e8bd965",
   "metadata": {},
   "outputs": [],
   "source": [
    "# utility functions\n",
    "\n",
    "def format_docs(docs):\n",
    "    return \"\\n\\n\".join(doc.page_content for doc in docs)\n",
    "\n",
    "def preprocess_text(text):\n",
    "    # eventually, remove ,\n",
    "    text = text.replace(\",\", \" \")"
   ]
  },
  {
   "cell_type": "markdown",
   "id": "99e7b82a",
   "metadata": {},
   "source": [
    "## **1. News API - Get articles**"
   ]
  },
  {
   "cell_type": "code",
   "execution_count": 6,
   "id": "09022676",
   "metadata": {},
   "outputs": [
    {
     "name": "stderr",
     "output_type": "stream",
     "text": [
      "100%|████████████████████████████████████████████████████████████████████████████████████████████████████████████████████████████████████████| 10/10 [00:27<00:00,  2.80s/it]\n"
     ]
    }
   ],
   "source": [
    "#define subjects\n",
    "list_of_subjects = [\"Israel\", \"Immigration\", \"Elections\", \"NFL\", \"United Nations\", \"Gaza\", \"Biden\", \"Trump\", \"Republicans\", \"Democrats\"]\n",
    "\n",
    "columns = ['subject', 'source_id', 'name', 'author', 'title', 'url', 'urlToImage', 'publishedAt', 'content']\n",
    "\n",
    "#create empty dataframe to fill\n",
    "df_original = pd.DataFrame(columns=columns)\n",
    "    \n",
    "# loop over subjects and get 100 requests\n",
    "\n",
    "for subject in tqdm(list_of_subjects):\n",
    "    time.sleep(2)\n",
    "    #define url\n",
    "    url = (f\"https://newsapi.org/v2/everything?\"\n",
    "               f\"q={subject}&\"\n",
    "               f\"language=en&\"\n",
    "               f\"apiKey={NEWS_API_KEY}\")\n",
    "\n",
    "    response = requests.get(url)\n",
    "    response_json = response.json()\n",
    "    \n",
    "    \n",
    "    list_of_response = []\n",
    "\n",
    "    for response in response_json['articles']:\n",
    "        #add subject\n",
    "        subject = subject\n",
    "        \n",
    "        #get individual columns from data    \n",
    "        source_id = response['source']['id']\n",
    "        name = response['source']['name']\n",
    "        author = response['author']\n",
    "        title = response['title']\n",
    "        url = response['url']\n",
    "        urlToImage = response['urlToImage']\n",
    "        publishedAt = response['publishedAt']\n",
    "        content = response['title'] + \"\\n\" + response['content']\n",
    "\n",
    "        #add to list\n",
    "        list_of_response.append([subject, source_id, name, author, title, url, urlToImage, publishedAt, content])\n",
    "\n",
    "    df_1 = pd.DataFrame(list_of_response, columns=columns)\n",
    "        \n",
    "    #add single df to multiple df\n",
    "    df_original = pd.concat([df_original, df_1])"
   ]
  },
  {
   "cell_type": "code",
   "execution_count": 7,
   "id": "57745413",
   "metadata": {},
   "outputs": [
    {
     "data": {
      "text/html": [
       "<div>\n",
       "<style scoped>\n",
       "    .dataframe tbody tr th:only-of-type {\n",
       "        vertical-align: middle;\n",
       "    }\n",
       "\n",
       "    .dataframe tbody tr th {\n",
       "        vertical-align: top;\n",
       "    }\n",
       "\n",
       "    .dataframe thead th {\n",
       "        text-align: right;\n",
       "    }\n",
       "</style>\n",
       "<table border=\"1\" class=\"dataframe\">\n",
       "  <thead>\n",
       "    <tr style=\"text-align: right;\">\n",
       "      <th></th>\n",
       "      <th>subject</th>\n",
       "      <th>source_id</th>\n",
       "      <th>name</th>\n",
       "      <th>author</th>\n",
       "      <th>title</th>\n",
       "      <th>url</th>\n",
       "      <th>urlToImage</th>\n",
       "      <th>publishedAt</th>\n",
       "      <th>content</th>\n",
       "    </tr>\n",
       "  </thead>\n",
       "  <tbody>\n",
       "    <tr>\n",
       "      <th>0</th>\n",
       "      <td>Israel</td>\n",
       "      <td>bbc-news</td>\n",
       "      <td>BBC News</td>\n",
       "      <td>https://www.facebook.com/bbcnews</td>\n",
       "      <td>Hamas command in north Gaza destroyed, Israel ...</td>\n",
       "      <td>https://www.bbc.co.uk/news/world-middle-east-6...</td>\n",
       "      <td>https://ichef.bbci.co.uk/news/1024/branded_new...</td>\n",
       "      <td>2024-01-06T20:36:02Z</td>\n",
       "      <td>Hamas command in north Gaza destroyed, Israel ...</td>\n",
       "    </tr>\n",
       "    <tr>\n",
       "      <th>1</th>\n",
       "      <td>Israel</td>\n",
       "      <td>bbc-news</td>\n",
       "      <td>BBC News</td>\n",
       "      <td>https://www.facebook.com/bbcnews</td>\n",
       "      <td>South Africa's genocide case against Israel: B...</td>\n",
       "      <td>https://www.bbc.co.uk/news/world-middle-east-6...</td>\n",
       "      <td>https://ichef.bbci.co.uk/news/1024/branded_new...</td>\n",
       "      <td>2024-01-12T20:59:40Z</td>\n",
       "      <td>South Africa's genocide case against Israel: B...</td>\n",
       "    </tr>\n",
       "    <tr>\n",
       "      <th>2</th>\n",
       "      <td>Israel</td>\n",
       "      <td>bbc-news</td>\n",
       "      <td>BBC News</td>\n",
       "      <td>https://www.facebook.com/bbcnews</td>\n",
       "      <td>UN court to hear South Africa genocide case ag...</td>\n",
       "      <td>https://www.bbc.co.uk/news/world-middle-east-6...</td>\n",
       "      <td>https://ichef.bbci.co.uk/news/1024/branded_new...</td>\n",
       "      <td>2024-01-11T07:16:13Z</td>\n",
       "      <td>UN court to hear South Africa genocide case ag...</td>\n",
       "    </tr>\n",
       "    <tr>\n",
       "      <th>3</th>\n",
       "      <td>Israel</td>\n",
       "      <td>bbc-news</td>\n",
       "      <td>BBC News</td>\n",
       "      <td>https://www.facebook.com/bbcnews</td>\n",
       "      <td>Khan Younis: Israel says forces have encircled...</td>\n",
       "      <td>https://www.bbc.co.uk/news/world-middle-east-6...</td>\n",
       "      <td>https://ichef.bbci.co.uk/news/1024/branded_new...</td>\n",
       "      <td>2024-01-23T21:15:25Z</td>\n",
       "      <td>Khan Younis: Israel says forces have encircled...</td>\n",
       "    </tr>\n",
       "    <tr>\n",
       "      <th>4</th>\n",
       "      <td>Israel</td>\n",
       "      <td>bbc-news</td>\n",
       "      <td>BBC News</td>\n",
       "      <td>https://www.facebook.com/bbcnews</td>\n",
       "      <td>Israeli military says 21 soldiers killed in Gaza</td>\n",
       "      <td>https://www.bbc.co.uk/news/world-middle-east-6...</td>\n",
       "      <td>https://ichef.bbci.co.uk/news/1024/branded_new...</td>\n",
       "      <td>2024-01-23T07:00:02Z</td>\n",
       "      <td>Israeli military says 21 soldiers killed in Ga...</td>\n",
       "    </tr>\n",
       "  </tbody>\n",
       "</table>\n",
       "</div>"
      ],
      "text/plain": [
       "  subject source_id      name                            author  \\\n",
       "0  Israel  bbc-news  BBC News  https://www.facebook.com/bbcnews   \n",
       "1  Israel  bbc-news  BBC News  https://www.facebook.com/bbcnews   \n",
       "2  Israel  bbc-news  BBC News  https://www.facebook.com/bbcnews   \n",
       "3  Israel  bbc-news  BBC News  https://www.facebook.com/bbcnews   \n",
       "4  Israel  bbc-news  BBC News  https://www.facebook.com/bbcnews   \n",
       "\n",
       "                                               title  \\\n",
       "0  Hamas command in north Gaza destroyed, Israel ...   \n",
       "1  South Africa's genocide case against Israel: B...   \n",
       "2  UN court to hear South Africa genocide case ag...   \n",
       "3  Khan Younis: Israel says forces have encircled...   \n",
       "4   Israeli military says 21 soldiers killed in Gaza   \n",
       "\n",
       "                                                 url  \\\n",
       "0  https://www.bbc.co.uk/news/world-middle-east-6...   \n",
       "1  https://www.bbc.co.uk/news/world-middle-east-6...   \n",
       "2  https://www.bbc.co.uk/news/world-middle-east-6...   \n",
       "3  https://www.bbc.co.uk/news/world-middle-east-6...   \n",
       "4  https://www.bbc.co.uk/news/world-middle-east-6...   \n",
       "\n",
       "                                          urlToImage           publishedAt  \\\n",
       "0  https://ichef.bbci.co.uk/news/1024/branded_new...  2024-01-06T20:36:02Z   \n",
       "1  https://ichef.bbci.co.uk/news/1024/branded_new...  2024-01-12T20:59:40Z   \n",
       "2  https://ichef.bbci.co.uk/news/1024/branded_new...  2024-01-11T07:16:13Z   \n",
       "3  https://ichef.bbci.co.uk/news/1024/branded_new...  2024-01-23T21:15:25Z   \n",
       "4  https://ichef.bbci.co.uk/news/1024/branded_new...  2024-01-23T07:00:02Z   \n",
       "\n",
       "                                             content  \n",
       "0  Hamas command in north Gaza destroyed, Israel ...  \n",
       "1  South Africa's genocide case against Israel: B...  \n",
       "2  UN court to hear South Africa genocide case ag...  \n",
       "3  Khan Younis: Israel says forces have encircled...  \n",
       "4  Israeli military says 21 soldiers killed in Ga...  "
      ]
     },
     "execution_count": 7,
     "metadata": {},
     "output_type": "execute_result"
    }
   ],
   "source": [
    "df_original.head()"
   ]
  },
  {
   "cell_type": "code",
   "execution_count": 8,
   "id": "c2b7f278",
   "metadata": {},
   "outputs": [
    {
     "data": {
      "text/plain": [
       "Index(['subject', 'source_id', 'name', 'author', 'title', 'url', 'urlToImage',\n",
       "       'publishedAt', 'content'],\n",
       "      dtype='object')"
      ]
     },
     "execution_count": 8,
     "metadata": {},
     "output_type": "execute_result"
    }
   ],
   "source": [
    "df_original.columns"
   ]
  },
  {
   "cell_type": "code",
   "execution_count": 9,
   "id": "b87d6ea4",
   "metadata": {},
   "outputs": [
    {
     "data": {
      "text/plain": [
       "(1000, 9)"
      ]
     },
     "execution_count": 9,
     "metadata": {},
     "output_type": "execute_result"
    }
   ],
   "source": [
    "df_original.shape"
   ]
  },
  {
   "cell_type": "code",
   "execution_count": 10,
   "id": "7ca49fa8",
   "metadata": {},
   "outputs": [],
   "source": [
    "# save to excel\n",
    "df_original.to_excel(\"news_2024_02_03.xlsx\", index=False)"
   ]
  },
  {
   "cell_type": "markdown",
   "id": "f3767d80-281f-4755-92c1-dca15605e1b4",
   "metadata": {},
   "source": [
    "#### Reload from XLS"
   ]
  },
  {
   "cell_type": "code",
   "execution_count": 4,
   "id": "6f400331-3b16-479a-9d30-50499cede651",
   "metadata": {},
   "outputs": [],
   "source": [
    "# reload from xls\n",
    "df_original = pd.read_excel(\"news_2024_02_03.xlsx\")"
   ]
  },
  {
   "cell_type": "code",
   "execution_count": 5,
   "id": "4046ef77-50ab-457a-bf1b-43435f9b2258",
   "metadata": {},
   "outputs": [
    {
     "data": {
      "text/html": [
       "<div>\n",
       "<style scoped>\n",
       "    .dataframe tbody tr th:only-of-type {\n",
       "        vertical-align: middle;\n",
       "    }\n",
       "\n",
       "    .dataframe tbody tr th {\n",
       "        vertical-align: top;\n",
       "    }\n",
       "\n",
       "    .dataframe thead th {\n",
       "        text-align: right;\n",
       "    }\n",
       "</style>\n",
       "<table border=\"1\" class=\"dataframe\">\n",
       "  <thead>\n",
       "    <tr style=\"text-align: right;\">\n",
       "      <th></th>\n",
       "      <th>subject</th>\n",
       "      <th>source_id</th>\n",
       "      <th>name</th>\n",
       "      <th>author</th>\n",
       "      <th>title</th>\n",
       "      <th>url</th>\n",
       "      <th>urlToImage</th>\n",
       "      <th>publishedAt</th>\n",
       "      <th>content</th>\n",
       "    </tr>\n",
       "  </thead>\n",
       "  <tbody>\n",
       "    <tr>\n",
       "      <th>0</th>\n",
       "      <td>Israel</td>\n",
       "      <td>bbc-news</td>\n",
       "      <td>BBC News</td>\n",
       "      <td>https://www.facebook.com/bbcnews</td>\n",
       "      <td>Hamas command in north Gaza destroyed, Israel ...</td>\n",
       "      <td>https://www.bbc.co.uk/news/world-middle-east-6...</td>\n",
       "      <td>https://ichef.bbci.co.uk/news/1024/branded_new...</td>\n",
       "      <td>2024-01-06T20:36:02Z</td>\n",
       "      <td>Hamas command in north Gaza destroyed, Israel ...</td>\n",
       "    </tr>\n",
       "    <tr>\n",
       "      <th>1</th>\n",
       "      <td>Israel</td>\n",
       "      <td>bbc-news</td>\n",
       "      <td>BBC News</td>\n",
       "      <td>https://www.facebook.com/bbcnews</td>\n",
       "      <td>South Africa's genocide case against Israel: B...</td>\n",
       "      <td>https://www.bbc.co.uk/news/world-middle-east-6...</td>\n",
       "      <td>https://ichef.bbci.co.uk/news/1024/branded_new...</td>\n",
       "      <td>2024-01-12T20:59:40Z</td>\n",
       "      <td>South Africa's genocide case against Israel: B...</td>\n",
       "    </tr>\n",
       "    <tr>\n",
       "      <th>2</th>\n",
       "      <td>Israel</td>\n",
       "      <td>bbc-news</td>\n",
       "      <td>BBC News</td>\n",
       "      <td>https://www.facebook.com/bbcnews</td>\n",
       "      <td>UN court to hear South Africa genocide case ag...</td>\n",
       "      <td>https://www.bbc.co.uk/news/world-middle-east-6...</td>\n",
       "      <td>https://ichef.bbci.co.uk/news/1024/branded_new...</td>\n",
       "      <td>2024-01-11T07:16:13Z</td>\n",
       "      <td>UN court to hear South Africa genocide case ag...</td>\n",
       "    </tr>\n",
       "    <tr>\n",
       "      <th>3</th>\n",
       "      <td>Israel</td>\n",
       "      <td>bbc-news</td>\n",
       "      <td>BBC News</td>\n",
       "      <td>https://www.facebook.com/bbcnews</td>\n",
       "      <td>Khan Younis: Israel says forces have encircled...</td>\n",
       "      <td>https://www.bbc.co.uk/news/world-middle-east-6...</td>\n",
       "      <td>https://ichef.bbci.co.uk/news/1024/branded_new...</td>\n",
       "      <td>2024-01-23T21:15:25Z</td>\n",
       "      <td>Khan Younis: Israel says forces have encircled...</td>\n",
       "    </tr>\n",
       "    <tr>\n",
       "      <th>4</th>\n",
       "      <td>Israel</td>\n",
       "      <td>bbc-news</td>\n",
       "      <td>BBC News</td>\n",
       "      <td>https://www.facebook.com/bbcnews</td>\n",
       "      <td>Israeli military says 21 soldiers killed in Gaza</td>\n",
       "      <td>https://www.bbc.co.uk/news/world-middle-east-6...</td>\n",
       "      <td>https://ichef.bbci.co.uk/news/1024/branded_new...</td>\n",
       "      <td>2024-01-23T07:00:02Z</td>\n",
       "      <td>Israeli military says 21 soldiers killed in Ga...</td>\n",
       "    </tr>\n",
       "  </tbody>\n",
       "</table>\n",
       "</div>"
      ],
      "text/plain": [
       "  subject source_id      name                            author  \\\n",
       "0  Israel  bbc-news  BBC News  https://www.facebook.com/bbcnews   \n",
       "1  Israel  bbc-news  BBC News  https://www.facebook.com/bbcnews   \n",
       "2  Israel  bbc-news  BBC News  https://www.facebook.com/bbcnews   \n",
       "3  Israel  bbc-news  BBC News  https://www.facebook.com/bbcnews   \n",
       "4  Israel  bbc-news  BBC News  https://www.facebook.com/bbcnews   \n",
       "\n",
       "                                               title  \\\n",
       "0  Hamas command in north Gaza destroyed, Israel ...   \n",
       "1  South Africa's genocide case against Israel: B...   \n",
       "2  UN court to hear South Africa genocide case ag...   \n",
       "3  Khan Younis: Israel says forces have encircled...   \n",
       "4   Israeli military says 21 soldiers killed in Gaza   \n",
       "\n",
       "                                                 url  \\\n",
       "0  https://www.bbc.co.uk/news/world-middle-east-6...   \n",
       "1  https://www.bbc.co.uk/news/world-middle-east-6...   \n",
       "2  https://www.bbc.co.uk/news/world-middle-east-6...   \n",
       "3  https://www.bbc.co.uk/news/world-middle-east-6...   \n",
       "4  https://www.bbc.co.uk/news/world-middle-east-6...   \n",
       "\n",
       "                                          urlToImage           publishedAt  \\\n",
       "0  https://ichef.bbci.co.uk/news/1024/branded_new...  2024-01-06T20:36:02Z   \n",
       "1  https://ichef.bbci.co.uk/news/1024/branded_new...  2024-01-12T20:59:40Z   \n",
       "2  https://ichef.bbci.co.uk/news/1024/branded_new...  2024-01-11T07:16:13Z   \n",
       "3  https://ichef.bbci.co.uk/news/1024/branded_new...  2024-01-23T21:15:25Z   \n",
       "4  https://ichef.bbci.co.uk/news/1024/branded_new...  2024-01-23T07:00:02Z   \n",
       "\n",
       "                                             content  \n",
       "0  Hamas command in north Gaza destroyed, Israel ...  \n",
       "1  South Africa's genocide case against Israel: B...  \n",
       "2  UN court to hear South Africa genocide case ag...  \n",
       "3  Khan Younis: Israel says forces have encircled...  \n",
       "4  Israeli military says 21 soldiers killed in Ga...  "
      ]
     },
     "execution_count": 5,
     "metadata": {},
     "output_type": "execute_result"
    }
   ],
   "source": [
    "df_original.head()"
   ]
  },
  {
   "cell_type": "code",
   "execution_count": 6,
   "id": "a41b851d-dbce-45a5-82da-a2f1b7fb7019",
   "metadata": {},
   "outputs": [
    {
     "name": "stdout",
     "output_type": "stream",
     "text": [
      "<class 'pandas.core.frame.DataFrame'>\n",
      "RangeIndex: 1000 entries, 0 to 999\n",
      "Data columns (total 9 columns):\n",
      " #   Column       Non-Null Count  Dtype \n",
      "---  ------       --------------  ----- \n",
      " 0   subject      1000 non-null   object\n",
      " 1   source_id    632 non-null    object\n",
      " 2   name         1000 non-null   object\n",
      " 3   author       971 non-null    object\n",
      " 4   title        1000 non-null   object\n",
      " 5   url          1000 non-null   object\n",
      " 6   urlToImage   936 non-null    object\n",
      " 7   publishedAt  1000 non-null   object\n",
      " 8   content      1000 non-null   object\n",
      "dtypes: object(9)\n",
      "memory usage: 70.4+ KB\n"
     ]
    }
   ],
   "source": [
    "# one problem we have is that we cannot load if some field are NaN\n",
    "df_original.info()"
   ]
  },
  {
   "cell_type": "markdown",
   "id": "d9aaae7a",
   "metadata": {},
   "source": [
    "----------------------"
   ]
  },
  {
   "cell_type": "markdown",
   "id": "b5840f05",
   "metadata": {},
   "source": [
    "-------"
   ]
  },
  {
   "cell_type": "markdown",
   "id": "0d2fa7c1",
   "metadata": {},
   "source": [
    "## **2. Weaviate, Cohere, LangChain application**"
   ]
  },
  {
   "cell_type": "markdown",
   "id": "466a4b37",
   "metadata": {},
   "source": [
    "### **Create Weaviate client**"
   ]
  },
  {
   "cell_type": "markdown",
   "id": "f8f9a9fb",
   "metadata": {},
   "source": [
    "- Cohere embeddings models are used\n",
    "- Weaviate as vector db\n",
    "- LangChain"
   ]
  },
  {
   "cell_type": "code",
   "execution_count": 7,
   "id": "8edd66f6-a11c-42ce-9456-4a177784b77f",
   "metadata": {},
   "outputs": [],
   "source": [
    "# get only text from df\n",
    "\n",
    "txts = list(df_original['content'].values)\n",
    "subjects = list(df_original['subject'].values)\n",
    "publisheds = list(df_original['publishedAt'].values)\n",
    "sources = list(df_original['source_id'].values)\n",
    "\n",
    "# wrapping in LangChain list of Document\n",
    "docs = [Document(page_content=txt, metadata={\"subject\":subject}) for txt, subject in zip(txts, subjects)] # metadata={\"subject\":subject, \"published\":published, \"source_id\":source}) for txt, subject, published, source in zip(txts, subjects, publisheds, sources)]"
   ]
  },
  {
   "cell_type": "code",
   "execution_count": 8,
   "id": "f52dbdf3-5975-4e40-8e57-03fc3ee0a776",
   "metadata": {},
   "outputs": [],
   "source": [
    "embed_model = CohereEmbeddings(model=EMBED_MODEL, cohere_api_key=COHERE_KEY)"
   ]
  },
  {
   "cell_type": "code",
   "execution_count": 9,
   "id": "9ef45d69-c745-40d6-88b4-32d038407b50",
   "metadata": {},
   "outputs": [
    {
     "name": "stderr",
     "output_type": "stream",
     "text": [
      "/Users/lsaetta/miniforge3/envs/newsapi/lib/python3.9/site-packages/weaviate/__init__.py:128: DeprecationWarning: Dep010: Importing AuthApiKey from weaviate is deprecated. Please import it from its specific module: weaviate.auth\n",
      "  _Warnings.root_module_import(name, map_[name])\n",
      "/Users/lsaetta/miniforge3/envs/newsapi/lib/python3.9/site-packages/weaviate/warnings.py:158: DeprecationWarning: Dep016: You are using the Weaviate v3 client, which is deprecated.\n",
      "            Consider upgrading to the new and improved v4 client instead!\n",
      "            See here for usage: https://weaviate.io/developers/weaviate/client-libraries/python\n",
      "            \n",
      "  warnings.warn(\n"
     ]
    }
   ],
   "source": [
    "# for now using V3\n",
    "auth_client_secret = weaviate.AuthApiKey(api_key=WV_API_KEY)\n",
    "\n",
    "client = weaviate.Client(\n",
    "    url=\"https://orals-cluster1-j7b4goli.weaviate.network\",\n",
    "    auth_client_secret=auth_client_secret,\n",
    "    additional_headers={\"X-Cohere-Api-Key\": COHERE_KEY}\n",
    ")"
   ]
  },
  {
   "cell_type": "markdown",
   "id": "30756659-fd2f-44da-a85d-f518e40e35cb",
   "metadata": {},
   "source": [
    "#### if we want to clean up the DB (delete everything)"
   ]
  },
  {
   "cell_type": "code",
   "execution_count": 138,
   "id": "8e15de30-b1c5-4d14-8f97-e5fae0f2e85f",
   "metadata": {},
   "outputs": [],
   "source": [
    "response = client.schema.get()\n",
    "\n",
    "classes = response[\"classes\"]"
   ]
  },
  {
   "cell_type": "code",
   "execution_count": 139,
   "id": "6e8a743a-e581-440c-978c-59fb9f632705",
   "metadata": {},
   "outputs": [
    {
     "name": "stdout",
     "output_type": "stream",
     "text": [
      "Document3\n"
     ]
    }
   ],
   "source": [
    "for obj in classes:\n",
    "    print(obj[\"class\"])"
   ]
  },
  {
   "cell_type": "code",
   "execution_count": 141,
   "id": "10fef220-27c2-420b-b069-c37ecfd6ce18",
   "metadata": {},
   "outputs": [
    {
     "name": "stdout",
     "output_type": "stream",
     "text": [
      "Document3\n"
     ]
    }
   ],
   "source": [
    "# with thos one you can clean the database\n",
    "for obj in classes:\n",
    "    print(obj[\"class\"])\n",
    "    # to delete uncomment\n",
    "    # client.schema.delete_class(obj[\"class\"])"
   ]
  },
  {
   "cell_type": "code",
   "execution_count": 50,
   "id": "271422d2-1f7b-4509-be7b-b955b16000bc",
   "metadata": {},
   "outputs": [],
   "source": [
    "# here we load documents + metadata in the Vector Store\n",
    "\n",
    "db = Weaviate.from_documents(docs, embed_model, by_text=False, client=client)"
   ]
  },
  {
   "cell_type": "code",
   "execution_count": 51,
   "id": "e8f0e0ff",
   "metadata": {},
   "outputs": [],
   "source": [
    "retriever = db.as_retriever(search_kwargs={\"k\":10})"
   ]
  },
  {
   "cell_type": "code",
   "execution_count": 52,
   "id": "c7769d3b-1acb-44bb-81c6-6b4da49e6b15",
   "metadata": {},
   "outputs": [],
   "source": [
    "# add a reranker\n",
    "\n",
    "compressor = CohereRerank(cohere_api_key=COHERE_KEY, top_n=6)\n",
    "\n",
    "compression_retriever = ContextualCompressionRetriever(\n",
    "    base_compressor=compressor, base_retriever=retriever\n",
    ")"
   ]
  },
  {
   "cell_type": "code",
   "execution_count": 53,
   "id": "f6d98c08-7889-4987-bf11-6c873ec63995",
   "metadata": {},
   "outputs": [],
   "source": [
    "llm = Cohere(model=\"command\", max_tokens=1024, temperature=0.1, cohere_api_key=COHERE_KEY)"
   ]
  },
  {
   "cell_type": "markdown",
   "id": "7a30555d-6326-4714-beea-c2c75efc9238",
   "metadata": {},
   "source": [
    "### Here we define the entire chain"
   ]
  },
  {
   "cell_type": "code",
   "execution_count": 54,
   "id": "f684e927-f518-4747-a177-475b4b8a7e70",
   "metadata": {},
   "outputs": [],
   "source": [
    "prompt_template = \"\"\"\n",
    "You are an assistant for question-answering tasks. \n",
    "Use the following pieces of retrieved context to answer the question. If you don't know the answer, just say that you don't know.\n",
    "---------------------\n",
    "Context: {context}\n",
    "---------------------\n",
    "Question: {question} \n",
    "Answer:\n",
    "\"\"\"\n",
    "\n",
    "prompt = PromptTemplate.from_template(prompt_template)\n",
    "\n",
    "#\n",
    "# a little more complex because we want metadata and references\n",
    "#\n",
    "rag_chain_from_docs = (\n",
    "    RunnablePassthrough.assign(context=(lambda x: format_docs(x[\"context\"])))\n",
    "    | prompt\n",
    "    | llm\n",
    "    | StrOutputParser()\n",
    ")\n",
    "\n",
    "rag_chain_with_source = RunnableParallel(\n",
    "    {\"context\": compression_retriever, \"question\": RunnablePassthrough()}\n",
    ").assign(answer=rag_chain_from_docs)"
   ]
  },
  {
   "cell_type": "markdown",
   "id": "7ab20a33-0343-4471-90c9-ff41cc4eea38",
   "metadata": {},
   "source": [
    "#### Do a test"
   ]
  },
  {
   "cell_type": "code",
   "execution_count": 55,
   "id": "b2914e52-917e-4469-ae0a-5e3371a664e5",
   "metadata": {},
   "outputs": [],
   "source": [
    "query = \"List all the info you have regarding Israel. Give as many details as possible.\""
   ]
  },
  {
   "cell_type": "code",
   "execution_count": 56,
   "id": "5a75b5b2-8379-487d-9664-3ed4c3275b3f",
   "metadata": {},
   "outputs": [],
   "source": [
    "result = rag_chain_with_source.invoke(query)"
   ]
  },
  {
   "cell_type": "code",
   "execution_count": 57,
   "id": "ef094962-03c3-429f-9a87-c1816efdf24e",
   "metadata": {},
   "outputs": [
    {
     "name": "stdout",
     "output_type": "stream",
     "text": [
      " I have retrieved some information on the following topics: \n",
      "\n",
      "1. Sexual violence and genocide against Palestinian women by Hamas.\n",
      "2. The US aid to Israel and whether it is becoming less bipartisan. \n",
      "3. Violations of human rights by the Israeli military in Gaza's second city, Khan Younis, and other attacks on Gaza. \n",
      "\n",
      "I do not have specific details on the amount of US aid to Israel over the last 75 years or exact figures on the advancement of troops into Khan Younis. \n",
      "\n",
      "I do not have information on the Israeli soccer player who referenced Hamas' hostages in Turkey. \n",
      "\n",
      "Can I help you with anything else? \n"
     ]
    }
   ],
   "source": [
    "print(result['answer'])"
   ]
  },
  {
   "cell_type": "markdown",
   "id": "dea32a45-2bf2-4258-895f-8946c5df21aa",
   "metadata": {},
   "source": [
    "#### List references"
   ]
  },
  {
   "cell_type": "code",
   "execution_count": 58,
   "id": "a5f3a910-1c39-47a2-b18e-3659482beb36",
   "metadata": {},
   "outputs": [
    {
     "name": "stdout",
     "output_type": "stream",
     "text": [
      "Israelis tell British MPs of evidence of Hamas sexual violence\n",
      "Israelis who dealt with the bodies of victims of Hamas's 7 October attacks on Israel have told British MPs and peers that there was \"deliberate, systematic genital mutilation\" of female victims and t… [+5747 chars]\n",
      "Subject: Gaza\n",
      "-----------------------\n",
      "\n",
      "Israelis tell British MPs of evidence of Hamas sexual violence\n",
      "Israelis who dealt with the bodies of victims of Hamas's 7 October attacks on Israel have told British MPs and peers that there was \"deliberate, systematic genital mutilation\" of female victims and t… [+5747 chars]\n",
      "Subject: Israel\n",
      "-----------------------\n",
      "\n",
      "Unconditional aid to Israel is no longer the bipartisan certainty it once was as US senators begin to question Israel's campaign in Gaza and the West Bank\n",
      "Pro-Palestinian demonstrators in Chicago demand a halt to US aid to Israel.Anadolu\n",
      "<ul><li>The US has given about $130 billion in aid to Israel over the last 75 years.</li><li>Israel is the largest … [+4114 chars]\n",
      "Subject: Israel\n",
      "-----------------------\n",
      "\n",
      "Unconditional aid to Israel is no longer the bipartisan certainty it once was as US senators begin to question Israel's campaign in Gaza and the West Bank\n",
      "Pro-Palestinian demonstrators in Chicago demand a halt to US aid to Israel.Anadolu\n",
      "<ul><li>The US has given about $130 billion in aid to Israel over the last 75 years.</li><li>Israel is the largest … [+4114 chars]\n",
      "Subject: Democrats\n",
      "-----------------------\n",
      "\n",
      "Israeli Soccer Player in Turkey Suspended, Investigated for Referencing Hamas’ Hostages\n",
      "Turkey is investigating an Israeli professional soccer player for the Turkish soccer club Antalyaspor after he referenced the ongoing Israel-Hamas war during a match in the coastal city of Antalya on… [+2515 chars]\n",
      "Subject: Gaza\n",
      "-----------------------\n",
      "\n",
      "Khan Younis: Israel says forces have encircled Gaza's second city\n",
      "The Israeli military says its ground forces have encircled Khan Younis, the southern Gaza Strip's largest city. \n",
      "Troops have also reportedly advanced deeper into remaining parts of the city, where t… [+5985 chars]\n",
      "Subject: Gaza\n",
      "-----------------------\n",
      "\n"
     ]
    }
   ],
   "source": [
    "for doc in result['context']:\n",
    "    print(doc.page_content)\n",
    "    print(f\"Subject: {doc.metadata['subject']}\")\n",
    "    print(\"-----------------------\")\n",
    "    print(\"\")"
   ]
  },
  {
   "cell_type": "markdown",
   "id": "50d004ac-c2f5-487c-84fa-b81c47ef9311",
   "metadata": {},
   "source": [
    "#### Test hybrid Search"
   ]
  },
  {
   "cell_type": "code",
   "execution_count": 10,
   "id": "7cf6b53d",
   "metadata": {},
   "outputs": [
    {
     "ename": "UnexpectedStatusCodeError",
     "evalue": "Create class! Unexpected status code: 422, with response body: {'error': [{'message': 'class name \"Document3\" already exists'}]}.",
     "output_type": "error",
     "traceback": [
      "\u001b[0;31m---------------------------------------------------------------------------\u001b[0m",
      "\u001b[0;31mUnexpectedStatusCodeError\u001b[0m                 Traceback (most recent call last)",
      "Cell \u001b[0;32mIn[10], line 5\u001b[0m\n\u001b[1;32m      1\u001b[0m class_obj \u001b[38;5;241m=\u001b[39m {\n\u001b[1;32m      2\u001b[0m     \u001b[38;5;124m\"\u001b[39m\u001b[38;5;124mclass\u001b[39m\u001b[38;5;124m\"\u001b[39m: \u001b[38;5;124m\"\u001b[39m\u001b[38;5;124mDocument3\u001b[39m\u001b[38;5;124m\"\u001b[39m,\n\u001b[1;32m      3\u001b[0m     \u001b[38;5;124m\"\u001b[39m\u001b[38;5;124mvectorizer\u001b[39m\u001b[38;5;124m\"\u001b[39m: \u001b[38;5;124m\"\u001b[39m\u001b[38;5;124mtext2vec-cohere\u001b[39m\u001b[38;5;124m\"\u001b[39m\n\u001b[1;32m      4\u001b[0m }\n\u001b[0;32m----> 5\u001b[0m \u001b[43mclient\u001b[49m\u001b[38;5;241;43m.\u001b[39;49m\u001b[43mschema\u001b[49m\u001b[38;5;241;43m.\u001b[39;49m\u001b[43mcreate_class\u001b[49m\u001b[43m(\u001b[49m\u001b[43mclass_obj\u001b[49m\u001b[43m)\u001b[49m\n",
      "File \u001b[0;32m~/miniforge3/envs/newsapi/lib/python3.9/site-packages/weaviate/schema/crud_schema.py:253\u001b[0m, in \u001b[0;36mSchema.create_class\u001b[0;34m(self, schema_class)\u001b[0m\n\u001b[1;32m    205\u001b[0m \u001b[38;5;250m\u001b[39m\u001b[38;5;124;03m\"\"\"\u001b[39;00m\n\u001b[1;32m    206\u001b[0m \u001b[38;5;124;03mCreate a single class as part of the schema in Weaviate.\u001b[39;00m\n\u001b[1;32m    207\u001b[0m \n\u001b[0;32m   (...)\u001b[0m\n\u001b[1;32m    249\u001b[0m \u001b[38;5;124;03m    If the 'schema_class' could not be validated against the standard format.\u001b[39;00m\n\u001b[1;32m    250\u001b[0m \u001b[38;5;124;03m\"\"\"\u001b[39;00m\n\u001b[1;32m    252\u001b[0m loaded_schema_class \u001b[38;5;241m=\u001b[39m _get_dict_from_object(schema_class)\n\u001b[0;32m--> 253\u001b[0m \u001b[38;5;28;43mself\u001b[39;49m\u001b[38;5;241;43m.\u001b[39;49m\u001b[43m_create_class_with_primitives\u001b[49m\u001b[43m(\u001b[49m\u001b[43mloaded_schema_class\u001b[49m\u001b[43m)\u001b[49m\n\u001b[1;32m    254\u001b[0m \u001b[38;5;28mself\u001b[39m\u001b[38;5;241m.\u001b[39m_create_complex_properties_from_class(loaded_schema_class)\n",
      "File \u001b[0;32m~/miniforge3/envs/newsapi/lib/python3.9/site-packages/weaviate/schema/crud_schema.py:817\u001b[0m, in \u001b[0;36mSchema._create_class_with_primitives\u001b[0;34m(self, weaviate_class)\u001b[0m\n\u001b[1;32m    815\u001b[0m     \u001b[38;5;28;01mraise\u001b[39;00m RequestsConnectionError(\u001b[38;5;124m\"\u001b[39m\u001b[38;5;124mClass may not have been created properly.\u001b[39m\u001b[38;5;124m\"\u001b[39m) \u001b[38;5;28;01mfrom\u001b[39;00m \u001b[38;5;21;01mconn_err\u001b[39;00m\n\u001b[1;32m    816\u001b[0m \u001b[38;5;28;01mif\u001b[39;00m response\u001b[38;5;241m.\u001b[39mstatus_code \u001b[38;5;241m!=\u001b[39m \u001b[38;5;241m200\u001b[39m:\n\u001b[0;32m--> 817\u001b[0m     \u001b[38;5;28;01mraise\u001b[39;00m UnexpectedStatusCodeException(\u001b[38;5;124m\"\u001b[39m\u001b[38;5;124mCreate class\u001b[39m\u001b[38;5;124m\"\u001b[39m, response)\n",
      "\u001b[0;31mUnexpectedStatusCodeError\u001b[0m: Create class! Unexpected status code: 422, with response body: {'error': [{'message': 'class name \"Document3\" already exists'}]}."
     ]
    }
   ],
   "source": [
    "class_obj = {\n",
    "    \"class\": \"Document3\",\n",
    "    \"vectorizer\": \"text2vec-cohere\"\n",
    "}\n",
    "client.schema.create_class(class_obj)"
   ]
  },
  {
   "cell_type": "code",
   "execution_count": 11,
   "id": "7d559407",
   "metadata": {},
   "outputs": [],
   "source": [
    "retriever_hb = WeaviateHybridSearchRetriever(\n",
    "    client=client, index_name=\"Document3\", text_key=\"text\"\n",
    ")"
   ]
  },
  {
   "cell_type": "code",
   "execution_count": 131,
   "id": "4ff40634-75d8-4bc7-9216-7d08e94b96fc",
   "metadata": {},
   "outputs": [
    {
     "name": "stderr",
     "output_type": "stream",
     "text": [
      "[ERROR] Batch ConnectionError Exception occurred! Retrying in 2s. [1/3]\n"
     ]
    }
   ],
   "source": [
    "# ids = retriever_hb.add_documents(docs)"
   ]
  },
  {
   "cell_type": "code",
   "execution_count": 12,
   "id": "1dc36e71-41b5-4951-909d-e8921137e21c",
   "metadata": {},
   "outputs": [],
   "source": [
    "results = retriever_hb.get_relevant_documents(\"List everything about Gaza.\")"
   ]
  },
  {
   "cell_type": "code",
   "execution_count": 13,
   "id": "3d9dff9f-a1ff-4e7e-84b5-f47847616b56",
   "metadata": {},
   "outputs": [
    {
     "data": {
      "text/plain": [
       "[Document(page_content='Why Netanyahu Can’t Talk About Post-War Gaza\\nWhen Israel launched its war in Gaza in the aftermath of the Oct. 7 massacre, in which some 1,200 people were killed by Palestinian militants, it did so with one stated goal: the total elimination of… [+6958 chars]'),\n",
       " Document(page_content='LA Times bans 38 of its journalists from reporting on Gaza after they sign open letter critical of coverage\\nAt the Los Angeles Times, 38 journalists were banned from covering Gaza for a minimum of three months after signing an open letter about biased coverage of the Israel-Hamas war. The letter, \"We conde… [+1449 chars]'),\n",
       " Document(page_content=\"More than 25,000 now killed in Gaza, Hamas-run health ministry says\\nMore than 25,000 people have now been killed in Gaza since Israel's offensive began, according to the Hamas-run health ministry.\\nIt said there had been 178 deaths in the last 24 hours, making it one… [+4268 chars]\"),\n",
       " Document(page_content='Israeli military says 21 soldiers killed in Gaza\\nThe Israeli army says 21 of its soldiers have been killed in Gaza - the deadliest day for Israeli forces since the start of their ground operation. \\nA spokesman for the Israel Defense Forces (IDF), … [+618 chars]')]"
      ]
     },
     "execution_count": 13,
     "metadata": {},
     "output_type": "execute_result"
    }
   ],
   "source": [
    "results"
   ]
  },
  {
   "cell_type": "code",
   "execution_count": 14,
   "id": "e705a7c2-b2e5-4b88-be18-3fec17963068",
   "metadata": {},
   "outputs": [],
   "source": [
    "# Hybrid Search\n",
    "\n",
    "# set how many docs to return\n",
    "retriever_hb.k = 6\n",
    "\n",
    "results = retriever_hb.get_relevant_documents(\n",
    "    \"List all the info you have regarding Israel. Give as many details as possible.\",\n",
    "    where_filter={\n",
    "        \"path\": [\"subject\"],\n",
    "        \"operator\": \"Equal\",\n",
    "        \"valueString\": \"Biden\",\n",
    "    },\n",
    ")"
   ]
  },
  {
   "cell_type": "code",
   "execution_count": 15,
   "id": "c72b517e-9581-4261-8c4e-1d40349cc765",
   "metadata": {},
   "outputs": [
    {
     "data": {
      "text/plain": [
       "[Document(page_content=\"Up First briefing: Strike kills U.S. troops in Jordan; Israel-Hamas talks continue\\nGood morning. You're reading the Up First newsletter. Subscribe here to get it delivered to your inbox, and listen to the Up First podcast for all the news you need to start your day.\\nToday's top st… [+5110 chars]\"),\n",
       " Document(page_content=\"Biden: Three Americans killed, 'many' wounded in drone attack by Iran-backed militia in Jordan\\nCOLUMBIA, S.C. (AP) Three American service members were killed and many were wounded in a drone strike in northeast Jordan near the Syrian border, President Joe Biden said in a statement Sunday. He a… [+3259 chars]\"),\n",
       " Document(page_content=\"Biden considers halting some US military aid to force Israel to scale back its offensive in Gaza\\nProtesters in Los Angeles denounce the Biden administration's support of Israel.David McNew/Getty Images\\n<ul><li>Biden is considering curtailing some weapons support for Israel, NBC reported.</li><l… [+1831 chars]\"),\n",
       " Document(page_content=\"50% of Biden voters say Israel is committing genocide against Palestinians, poll finds\\nPresident Joe Biden at an event in Washington, DC on January 24, 2024.Saul Loeb/AFP via Getty Images\\n<ul><li>Half of Biden's 2020 voters say Israel is committing genocide against Palestinians, per a… [+1719 chars]\"),\n",
       " Document(page_content=\"Israel's Netanyahu rejects any Palestinian sovereignty post-war, rebuffing Biden\\nIsraeli Prime Minister Benjamin Netanyahu, centre, speaks during the weekly cabinet meeting at the Defence Ministry in Tel Aviv, Israel, Sunday Jan. 7, 2024.\\nRonen Zvulun/AP\\nJERUSALEM Israeli Prime… [+7373 chars]\"),\n",
       " Document(page_content='Donald Trump was right: GOP group finds over 4,000 miscounted votes in 2020. But they all go to Biden\\nDonald Trump will be pleased to know that he was was right all along a Republican-formed group in Virginia found more than 4,000 votes were mistakenly miscounted in the 2020 election. But the former … [+2146 chars]')]"
      ]
     },
     "execution_count": 15,
     "metadata": {},
     "output_type": "execute_result"
    }
   ],
   "source": [
    "results"
   ]
  },
  {
   "cell_type": "code",
   "execution_count": null,
   "id": "2a6e331e-e224-4848-985b-57d989ad0fa3",
   "metadata": {},
   "outputs": [],
   "source": []
  }
 ],
 "metadata": {
  "kernelspec": {
   "display_name": "Python 3 (ipykernel)",
   "language": "python",
   "name": "python3"
  },
  "language_info": {
   "codemirror_mode": {
    "name": "ipython",
    "version": 3
   },
   "file_extension": ".py",
   "mimetype": "text/x-python",
   "name": "python",
   "nbconvert_exporter": "python",
   "pygments_lexer": "ipython3",
   "version": "3.9.0"
  }
 },
 "nbformat": 4,
 "nbformat_minor": 5
}
